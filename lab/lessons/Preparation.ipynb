{
 "cells": [
  {
   "cell_type": "markdown",
   "id": "94770ae6-d19e-4230-9460-6b3a31d4f5b0",
   "metadata": {},
   "source": [
    "# Preparation\n",
    "\n",
    "## Tips\n",
    "\n",
    "While executing the lessons you are making some changes to the project implementation. If you want to push these changes to a shared git repository, create a separate git branch for yourself so that your changes won't get mixed up with others. You can create a personal feature branch either with git or by running `taito feat: my-name`.\n",
    "\n",
    "During the lessons you run taito commands that target your local environment. However, if cloud environments are already up and running, you can optionally target them with an additional `:ENV` prefix. For example, `taito open bucket` opens a bucket located in your local environment and `taito open bucket:ENV` opens a bucket located in *ENV* environment. Here *ENV* is `dev`, `test`, `stag`, or `prod`.\n",
    "\n",
    "If Jupyter Lab freezes at some point while you are executing the lessons, select **\"Kernel -> Shut Down All Kernels...\"** from the menu.\n",
    "\n",
    "## Example database\n",
    "\n",
    "The lessons require some database tables and example data. You can create them like this:\n",
    "\n",
    "1. Copy all files from **lab/lessons/files/db/** to **database/**. If a file already exists, add contents at the end of the existing file. For example:\n",
    "\n",
    "    ```shell\n",
    "    cp -rnv lab/lessons/files/db/* database/\n",
    "    cat lab/lessons/files/db/sqitch.plan >> database/sqitch.plan\n",
    "    cat lab/lessons/files/db/data/dev.sql >> database/data/dev.sql\n",
    "    ```\n",
    "\n",
    "\n",
    "2. Initialize your database with the example tables and data by running:\n",
    "\n",
    "    ```shell\n",
    "    taito init --clean\n",
    "    ```\n",
    "\n",
    "## Continue\n",
    "\n",
    "Now you are ready to continue with [the lessons](Contents.ipynb). Start from the basics."
   ]
  },
  {
   "cell_type": "code",
   "execution_count": null,
   "id": "26f37bfe-42e6-4d45-95bf-fc21de12a7a6",
   "metadata": {},
   "outputs": [],
   "source": []
  }
 ],
 "metadata": {
  "kernelspec": {
   "display_name": "Python 3",
   "language": "python",
   "name": "python3"
  },
  "language_info": {
   "codemirror_mode": {
    "name": "ipython",
    "version": 3
   },
   "file_extension": ".py",
   "mimetype": "text/x-python",
   "name": "python",
   "nbconvert_exporter": "python",
   "pygments_lexer": "ipython3",
   "version": "3.9.2"
  }
 },
 "nbformat": 4,
 "nbformat_minor": 5
}
