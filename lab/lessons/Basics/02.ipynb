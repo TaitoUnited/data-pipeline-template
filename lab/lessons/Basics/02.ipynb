{
 "cells": [
  {
   "cell_type": "markdown",
   "id": "7462f412-58cc-4b1a-8f9c-933f4e19e4e4",
   "metadata": {},
   "source": [
    "# Basics 2: Listen storage bucket for uploads\n",
    "\n",
    "In this lesson we modify the previous implementation so that it listens for uploaded files and automatically loads them to database.\n",
    "\n",
    "## Step 1: Execute the code"
   ]
  },
  {
   "cell_type": "code",
   "execution_count": null,
   "id": "66d372d9-c25a-4b65-8f36-2f629c38616d",
   "metadata": {},
   "outputs": [],
   "source": [
    "# Imports\n",
    "import pandas as pd\n",
    "\n",
    "%run ../../common/jupyter.ipynb\n",
    "import src_common_database as db\n",
    "import src_common_storage as st\n",
    "import src_common_util as util"
   ]
  },
  {
   "cell_type": "code",
   "execution_count": null,
   "id": "eb0915c1-aa72-4852-bf15-c13a4680e153",
   "metadata": {},
   "outputs": [],
   "source": [
    "# Function for saving sales data to database\n",
    "def save_sales(file_path):\n",
    "    print(\"INFO: Saving \" + file_path + \" to database\")\n",
    "    \n",
    "    # Read Sales.csv file from the storage bucket\n",
    "    bucket = st.create_storage_bucket_client(os.environ['STORAGE_BUCKET'])\n",
    "    sales_csv = bucket.get_object_contents(file_path)\n",
    "\n",
    "    # Read Sales.csv data into a Pandas dataframe\n",
    "    df = pd.read_csv(sales_csv)\n",
    "    \n",
    "    # Change dataframe schema to match the database table\n",
    "    db_df = df.rename(\n",
    "        columns = {\n",
    "            'Date': 'date_key',\n",
    "            'Product': 'product_key',\n",
    "            'Order': 'order_number',\n",
    "            'Quantity': 'quantity',\n",
    "            'Price': 'price',\n",
    "        },\n",
    "        inplace = False\n",
    "    )\n",
    "\n",
    "    # Generate unique key by concatenating order number and product SKU\n",
    "    db_df[\"key\"] = db_df[\"order_number\"].astype(str) + \".\" + db_df[\"product_key\"]\n",
    "\n",
    "    # Write the data to the \"load_sales\" view\n",
    "    database = db.create_engine()\n",
    "    db_df.to_sql('load_sales', con=database, if_exists='append', index=False)\n",
    "    print(\"INFO: Saved \" + file_path + \" to database successfully\")\n",
    "\n",
    "    # DEBUG: Show the data stored in fact_sales.\n",
    "    print(\"DEBUG: Data in database:\")\n",
    "    print(pd.read_sql('select * from fact_sales', con=database))"
   ]
  },
  {
   "cell_type": "code",
   "execution_count": null,
   "id": "39e8d3a8-f8f7-491b-98f0-dd3bd949b2f0",
   "metadata": {},
   "outputs": [],
   "source": [
    "# Start listening bucket for uploads\n",
    "bucket = st.create_storage_bucket_client(os.environ['STORAGE_BUCKET'])\n",
    "bucket.listen_changes(\"sales/\", \".csv\", save_sales)"
   ]
  },
  {
   "cell_type": "markdown",
   "id": "488505ec-3929-437f-870e-5e01afabf9f0",
   "metadata": {},
   "source": [
    "## Step 2: Add a file to the storage bucket\n",
    "\n",
    "- Execute `taito open bucket` on command-line to open the storage bucket on your web browser.\n",
    "- Sign in with access key `minio` and secret key `secret1234`.\n",
    "- Create a folder named `sales` and upload the **sales-2021-04.csv** file to the folder. If the file already exists, just overwrite it.\n",
    "- Soon you should see a notification that new data was saved to the database.\n",
    "- Stop the execution by pressing stop button on the Jupyter Lab web user interface. You can ignore the **KeyboardInterrupt** error message."
   ]
  },
  {
   "cell_type": "markdown",
   "id": "f9bdbe83-71f2-4fc7-af12-d2ea0ee8e144",
   "metadata": {},
   "source": [
    "## Next lesson: [Basics 3 - Add a new dimension table to database and create data pipeline for it](03.ipynb)"
   ]
  },
  {
   "cell_type": "code",
   "execution_count": null,
   "id": "f2c888de-fb18-42d4-8357-980495127d05",
   "metadata": {},
   "outputs": [],
   "source": []
  }
 ],
 "metadata": {
  "kernelspec": {
   "display_name": "Python 3",
   "language": "python",
   "name": "python3"
  },
  "language_info": {
   "codemirror_mode": {
    "name": "ipython",
    "version": 3
   },
   "file_extension": ".py",
   "mimetype": "text/x-python",
   "name": "python",
   "nbconvert_exporter": "python",
   "pygments_lexer": "ipython3",
   "version": "3.9.2"
  }
 },
 "nbformat": 4,
 "nbformat_minor": 5
}
