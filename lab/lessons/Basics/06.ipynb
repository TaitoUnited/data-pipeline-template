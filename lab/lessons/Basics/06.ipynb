{
 "cells": [
  {
   "cell_type": "markdown",
   "id": "fcb3063a-feaa-4a77-952f-3b2aa48cea7c",
   "metadata": {},
   "source": [
    "# Basics 6: Visualize data with Power BI Desktop\n",
    "\n",
    "In this lesson you will visualize your data in Power BI Desktop as a pie chart.\n",
    "\n",
    "## Step 1: Create a new report\n",
    "\n",
    "1. Download and install [Power BI Desktop] if you have not already.\n",
    "2. Create a new report on Power BI Desktop.\n",
    "\n",
    "## Step 2: Get data from database\n",
    "\n",
    "1. Select **Get data**.\n",
    "2. Select **Database -> PostgreSQL database**.\n",
    "3. Run `taito db proxy --credentials` to see the connection details.\n",
    "4. Enter the connection details. Use the **import** connectivity mode and enable the **include relationship columns** setting.\n",
    "5. Click **Connect**.\n",
    "6. On the navigator, select the **public.fact_sales** table and then select all related dimension tables by pressing the **Select Related Tables** button.\n",
    "7. Click **Load**\n",
    "\n",
    "> TIP: If you cannot connect to your database, bind the database to your local ip address in docker-compose.yaml. That is, change `\"5432:5432\"` to `\"MY_IP_ADDRESS:5432:5432\"`, stop containers with **ctrl-c**, and start them again with `taito start`.\n",
    "\n",
    "## Step 3: Add pie chart and save the report\n",
    "\n",
    "- Select **fact_sales.quantity** and **dim_products.name** fields from the Fields pane.\n",
    "- Select **Pie chart** from the visualizations pane.\n",
    "\n",
    "## Step 4: Save the report \n",
    "\n",
    "- Save the report with **File -> Save**.\n",
    "\n",
    "## Step 5 (optional): Publish your report to Power BI Service\n",
    "\n",
    "1. Open your report in Power BI Desktop.\n",
    "2. Select **File -> Publish**.\n",
    "\n",
    "## Extra: Data modeling tips for Power BI\n",
    "\n",
    "Here are some data modeling tips to ensure performance and usability when working with Power BI:\n",
    "\n",
    "- Model your database as a star schema. It is performant and easy to understand. More info: [Understand star schema and the importance for Power BI](https://docs.microsoft.com/en-us/power-bi/guidance/star-schema)\n",
    "- Avoid wide tables. That is, split your data into multiple tables (dimensions and facts), and do not load unnecessary columns to Power BI.\n",
    "- Turning off the \"auto date/time\" feature might help greatly if Power BI is sluggish with large data sets.\n",
    "\n",
    "Our database has already been modeled as a star schema, so we got that covered. It consists of one fact table (fact_sales) and three dimension tables (dim_dates, dim_products, and dim_stores)."
   ]
  },
  {
   "cell_type": "markdown",
   "id": "ac975bbe-e328-4999-b52d-5e32fcea656e",
   "metadata": {},
   "source": [
    "## Next lesson: [Basics 7 - Grant permissions for Power BI API access](07.ipynb)"
   ]
  },
  {
   "cell_type": "code",
   "execution_count": null,
   "id": "1ecba4bc-a59e-4ba1-b0b5-d0ced98cf961",
   "metadata": {},
   "outputs": [],
   "source": []
  }
 ],
 "metadata": {
  "kernelspec": {
   "display_name": "Python 3",
   "language": "python",
   "name": "python3"
  },
  "language_info": {
   "codemirror_mode": {
    "name": "ipython",
    "version": 3
   },
   "file_extension": ".py",
   "mimetype": "text/x-python",
   "name": "python",
   "nbconvert_exporter": "python",
   "pygments_lexer": "ipython3",
   "version": "3.9.2"
  }
 },
 "nbformat": 4,
 "nbformat_minor": 5
}
