{
 "cells": [
  {
   "cell_type": "markdown",
   "id": "bced70f2-336b-4a36-b43e-8a692d79ec19",
   "metadata": {},
   "source": [
    "# Basics 9: Keep Power BI dataset up-to-date\n",
    "\n",
    "## Step 1: Data pipeline implementation\n",
    "\n",
    "Our data pipeline implementation has to keep the Power BI data up-to-date.\n",
    "\n",
    "### a) Inserting new data\n",
    "\n",
    "If you only need to insert new data, it's pretty straightforward:\n"
   ]
  },
  {
   "cell_type": "code",
   "execution_count": 24,
   "id": "6df8d826-a211-4f47-b682-1522d0021771",
   "metadata": {},
   "outputs": [],
   "source": [
    "# Imports\n",
    "%run ../../common/jupyter.ipynb\n",
    "import src_common_database as db\n",
    "import src_common_powerbi as bi\n",
    "\n",
    "# Define database connection\n",
    "database = db.create_engine()\n",
    "\n",
    "# Define Power BI dataset based on environment variables\n",
    "dataset = bi.PowerBIDataset(\n",
    "    api_headers=bi.get_api_headers(bi.get_app()),\n",
    "    group_id=os.environ['POWERBI_GROUP_ID'],\n",
    "    dataset_id=os.environ['POWERBI_DATASET_ID'],\n",
    "    table_name_prefix=\"public \"\n",
    ")\n",
    "\n",
    "# Define new sales rows (e.g. read from a CSV file)\n",
    "new_sales = {\n",
    "  \"rows\": [\n",
    "    {\n",
    "      \"key\": \"00000000100.1-1\",\n",
    "      \"date_key\": \"2021-05-26\",\n",
    "      \"store_key\": \"Finland - Super Shop\",\n",
    "      \"product_key\": \"1-1\",\n",
    "      \"order_number\": \"00000000100\",\n",
    "      \"quantity\": 10,\n",
    "      \"price\": 2129.0\n",
    "    },\n",
    "    {\n",
    "      \"key\": \"00000000101.1-2\",\n",
    "      \"date_key\": \"2021-05-27\",\n",
    "      \"store_key\": \"Finland - Super Shop\",\n",
    "      \"product_key\": \"1-2\",\n",
    "      \"order_number\": \"00000000101\",\n",
    "      \"quantity\": 2,\n",
    "      \"price\": 2659.0\n",
    "    }\n",
    "  ]\n",
    "}\n",
    "\n",
    "# Insert new data\n",
    "dataset.insert_table_data(table_name='fact_sales', data=new_sales)"
   ]
  },
  {
   "cell_type": "markdown",
   "id": "17af3448-2910-41e0-ab28-1bca3fb8ed54",
   "metadata": {},
   "source": [
    "## b) Inserting new data and updating existing data\n",
    "\n",
    "If you also need to update existing data, you need the refresh a whole Power BI table because Power BI API does not support updating existing data. For example:"
   ]
  },
  {
   "cell_type": "code",
   "execution_count": 3,
   "id": "5f86ac75-d258-451c-8dac-7a36d9f44c0c",
   "metadata": {},
   "outputs": [
    {
     "ename": "NameError",
     "evalue": "name 'bi' is not defined",
     "output_type": "error",
     "traceback": [
      "\u001b[0;31m---------------------------------------------------------------------------\u001b[0m",
      "\u001b[0;31mNameError\u001b[0m                                 Traceback (most recent call last)",
      "\u001b[0;32m<ipython-input-3-cd7641e76ed7>\u001b[0m in \u001b[0;36m<module>\u001b[0;34m\u001b[0m\n\u001b[1;32m      2\u001b[0m \u001b[0;34m\u001b[0m\u001b[0m\n\u001b[1;32m      3\u001b[0m \u001b[0;31m# And then instead of insert, copy all data from database table to Power BI dataset with delete=true:\u001b[0m\u001b[0;34m\u001b[0m\u001b[0;34m\u001b[0m\u001b[0;34m\u001b[0m\u001b[0m\n\u001b[0;32m----> 4\u001b[0;31m \u001b[0mbi\u001b[0m\u001b[0;34m.\u001b[0m\u001b[0mcopy_table_data\u001b[0m\u001b[0;34m(\u001b[0m\u001b[0mheaders\u001b[0m\u001b[0;34m,\u001b[0m \u001b[0mgroup_id\u001b[0m\u001b[0;34m,\u001b[0m \u001b[0mdataset_id\u001b[0m\u001b[0;34m,\u001b[0m \u001b[0;34m'fact_sales'\u001b[0m\u001b[0;34m,\u001b[0m \u001b[0;34m'key'\u001b[0m\u001b[0;34m,\u001b[0m \u001b[0mdatabase\u001b[0m\u001b[0;34m,\u001b[0m \u001b[0mdelete\u001b[0m\u001b[0;34m=\u001b[0m\u001b[0;32mTrue\u001b[0m\u001b[0;34m)\u001b[0m\u001b[0;34m\u001b[0m\u001b[0;34m\u001b[0m\u001b[0m\n\u001b[0m",
      "\u001b[0;31mNameError\u001b[0m: name 'bi' is not defined"
     ]
    }
   ],
   "source": [
    "# Update data in database first, for example by reading data from a CSV file like in lesson 1.\n",
    "\n",
    "# And then instead of insert, copy all data from the database table to the Power BI dataset table with delete=true\n",
    "dataset.copy_table_data(table_name='fact_sales', order_by='key', database=database, delete_data=True)"
   ]
  },
  {
   "cell_type": "markdown",
   "id": "2edba772-85b4-4f4a-9a18-fbebec97b67f",
   "metadata": {},
   "source": [
    "## Step 2: Update schema\n",
    "\n",
    "If we add new columns to our database tables or make some other changes to the database schema, we need to update also the Power BI schema. This can be the following way."
   ]
  },
  {
   "cell_type": "code",
   "execution_count": 2,
   "id": "8318ca33-bbb4-4d88-a316-bc650ed60b02",
   "metadata": {},
   "outputs": [
    {
     "ename": "NameError",
     "evalue": "name 'as_powerbi_table_schema' is not defined",
     "output_type": "error",
     "traceback": [
      "\u001b[0;31m---------------------------------------------------------------------------\u001b[0m",
      "\u001b[0;31mNameError\u001b[0m                                 Traceback (most recent call last)",
      "\u001b[0;32m<ipython-input-2-79c91d7baacd>\u001b[0m in \u001b[0;36m<module>\u001b[0;34m\u001b[0m\n\u001b[1;32m      1\u001b[0m \u001b[0;31m# Update sales schema\u001b[0m\u001b[0;34m\u001b[0m\u001b[0;34m\u001b[0m\u001b[0;34m\u001b[0m\u001b[0m\n\u001b[0;32m----> 2\u001b[0;31m \u001b[0mfact_sales_schema\u001b[0m \u001b[0;34m=\u001b[0m \u001b[0mas_powerbi_table_schema\u001b[0m\u001b[0;34m(\u001b[0m\u001b[0;34m'fact_sales'\u001b[0m\u001b[0;34m,\u001b[0m \u001b[0mdatabase\u001b[0m\u001b[0;34m)\u001b[0m\u001b[0;34m\u001b[0m\u001b[0;34m\u001b[0m\u001b[0m\n\u001b[0m\u001b[1;32m      3\u001b[0m \u001b[0mbi\u001b[0m\u001b[0;34m.\u001b[0m\u001b[0mcopy_table_data\u001b[0m\u001b[0;34m(\u001b[0m\u001b[0mheaders\u001b[0m\u001b[0;34m,\u001b[0m \u001b[0mgroup_id\u001b[0m\u001b[0;34m,\u001b[0m \u001b[0mdataset_id\u001b[0m\u001b[0;34m,\u001b[0m \u001b[0;34m'fact_sales'\u001b[0m\u001b[0;34m,\u001b[0m \u001b[0;34m'key'\u001b[0m\u001b[0;34m,\u001b[0m \u001b[0mdatabase\u001b[0m\u001b[0;34m,\u001b[0m \u001b[0mdelete\u001b[0m\u001b[0;34m=\u001b[0m\u001b[0;32mTrue\u001b[0m\u001b[0;34m,\u001b[0m \u001b[0mupdate_schema\u001b[0m\u001b[0;34m=\u001b[0m\u001b[0mfact_sales_schema\u001b[0m\u001b[0;34m)\u001b[0m\u001b[0;34m\u001b[0m\u001b[0;34m\u001b[0m\u001b[0m\n\u001b[1;32m      4\u001b[0m \u001b[0;31m# --> TODO ADD SUPPORT FOR SCHEMA!\u001b[0m\u001b[0;34m\u001b[0m\u001b[0;34m\u001b[0m\u001b[0;34m\u001b[0m\u001b[0m\n\u001b[1;32m      5\u001b[0m \u001b[0;34m\u001b[0m\u001b[0m\n",
      "\u001b[0;31mNameError\u001b[0m: name 'as_powerbi_table_schema' is not defined"
     ]
    }
   ],
   "source": [
    "# Read schema from the database table and update Power BI dataset schema based on it\n",
    "fact_sales_schema = bi.as_powerbi_table_schema(table_name='fact_sales', database=database)\n",
    "dataset.update_table_schema(table_name='fact_sales', table_schema=fact_sales_schema)\n",
    "\n",
    "# Copy all data from the database table to the Power BI dataset table\n",
    "dataset.copy_table_data(table_name='fact_sales', order_by='key', database=database, delete_data=True)"
   ]
  },
  {
   "cell_type": "markdown",
   "id": "a0888cb8-0efe-4f19-9bf8-348ddda0074c",
   "metadata": {},
   "source": [
    "Unfornately you cannot add new database tables or relationships on an existing Power BI push dataset using the Power BI REST API. If such need arises, you need to create a new dataset, and update you Power BI dashboard to use the new dataset instead of the old one."
   ]
  },
  {
   "cell_type": "markdown",
   "id": "90cd5304-7d50-4cbb-aba9-5760546ea62c",
   "metadata": {},
   "source": [
    "## Next lesson: [Basics 10 - Real implementation and project configuration](10.ipynb)"
   ]
  },
  {
   "cell_type": "code",
   "execution_count": null,
   "id": "ca82fd91-2313-4b85-b115-fc5eab8904ed",
   "metadata": {},
   "outputs": [],
   "source": []
  }
 ],
 "metadata": {
  "kernelspec": {
   "display_name": "Python 3",
   "language": "python",
   "name": "python3"
  },
  "language_info": {
   "codemirror_mode": {
    "name": "ipython",
    "version": 3
   },
   "file_extension": ".py",
   "mimetype": "text/x-python",
   "name": "python",
   "nbconvert_exporter": "python",
   "pygments_lexer": "ipython3",
   "version": "3.9.2"
  }
 },
 "nbformat": 4,
 "nbformat_minor": 5
}
