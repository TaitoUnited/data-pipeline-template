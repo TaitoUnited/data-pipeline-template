{
 "cells": [
  {
   "cell_type": "markdown",
   "id": "6be725cf-0591-4f66-bbab-a691b459628c",
   "metadata": {},
   "source": [
    "# Basics 4: Create a dataset view on top of star schema\n",
    "\n",
    "Star schema is one of the most practical ways to model a data warehouse. By splitting your datasets into separate fact and dimension tables you improve performance, avoid vast amount of duplicate data, and simplify ETL processes that keep all your data up-to-date.\n",
    "\n",
    "However, some BI tools expect each dataset as a flat table. These BI tools typically do not have an internal data store at all, and therefore there is no disadvantages in using a flat model within the BI tool itself. You can make your database easier to use with such BI tools by providing your fundamental datasets as database views. This way a user of BI tool does not have to constitute the flat view in the BI tool himself by using SQL.\n",
    "\n",
    "## Add a new database view\n",
    "\n",
    "1. Execute `taito db add view_sales`.\n",
    "2. Add the following content to the newly created files (**database/deploy/view_sales.sql**, **database/revert/view_sales.sql**, and **database/verify/view_sales.sql**).\n",
    "\n",
    "```sql\n",
    "-- Deploy view_sales to pg\n",
    "\n",
    "BEGIN;\n",
    "\n",
    "CREATE VIEW view_sales AS\n",
    "SELECT\n",
    "  -- product\n",
    "  product.sku, product.name, product.category, product.subcategory,\n",
    "  -- sale\n",
    "  sale.quantity, sale.price,\n",
    "  -- store\n",
    "  store.name as store, store.postal_code, store.city, store.country,\n",
    "  -- date\n",
    "  date.date, date.day, date.day_of_week, date.day_of_week_name,\n",
    "  date.month, date.month_name, date.quarter, date.year,\n",
    "  -- unique key\n",
    "  sale.key\n",
    "FROM fact_sales sale,\n",
    "     dim_dates date,\n",
    "     dim_stores store,\n",
    "     dim_products product\n",
    "WHERE sale.date_key = date.key\n",
    "AND sale.store_key = store.key\n",
    "AND sale.product_key = product.key;\n",
    "\n",
    "COMMIT;\n",
    "```\n",
    "\n",
    "```sql\n",
    "-- Revert view_sales from pg\n",
    "\n",
    "BEGIN;\n",
    "\n",
    "DROP VIEW view_sales;\n",
    "\n",
    "COMMIT;\n",
    "```\n",
    "\n",
    "```sql\n",
    "-- Verify view_sales on pg\n",
    "\n",
    "BEGIN;\n",
    "\n",
    "SELECT key FROM load_sales LIMIT 1;\n",
    "\n",
    "ROLLBACK;\n",
    "```\n",
    "\n",
    "3. Deploy the new database migration to local database with `taito db deploy`."
   ]
  },
  {
   "cell_type": "markdown",
   "id": "ce01de6b-12bb-4c8c-b4ce-13d586ca6033",
   "metadata": {},
   "source": [
    "## Next lesson: [Basics 5 - Visualize data with Apache Superset](05.ipynb)"
   ]
  },
  {
   "cell_type": "code",
   "execution_count": null,
   "id": "b11426df-5018-4de8-9112-bcd2b43e9ee5",
   "metadata": {},
   "outputs": [],
   "source": []
  }
 ],
 "metadata": {
  "kernelspec": {
   "display_name": "Python 3",
   "language": "python",
   "name": "python3"
  },
  "language_info": {
   "codemirror_mode": {
    "name": "ipython",
    "version": 3
   },
   "file_extension": ".py",
   "mimetype": "text/x-python",
   "name": "python",
   "nbconvert_exporter": "python",
   "pygments_lexer": "ipython3",
   "version": "3.9.2"
  }
 },
 "nbformat": 4,
 "nbformat_minor": 5
}
