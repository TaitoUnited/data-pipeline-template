{
 "cells": [
  {
   "cell_type": "markdown",
   "id": "fcb3063a-feaa-4a77-952f-3b2aa48cea7c",
   "metadata": {},
   "source": [
    "# Workflows 1: Kafka events and connectors\n",
    "\n",
    "In this lesson we integrate Kafka to a data source using a Kafka connector, and we use Spark to analyze data stored in Kafka.\n",
    "\n",
    "> NOTE: This project template includes a simple standalone Kafka and Spark deployments that are meant only for small scale use cases. If you have lot's of data to analyze, you should deploy separate Kafka and Spark clusters and disable the Zookeeper, Kafka, and Spark in `scripts/helm.yaml`. This way you can also share the same Kafka and Spark clusters among multiple projects. TIP: You can get Kafka and Spark also as a managed service from many cloud providers.\n",
    "\n",
    "TODO: Later\n",
    "\n",
    "- https://stackoverflow.com/questions/55929540/spark-structured-streaming-app-reading-from-multiple-kafka-topics\n",
    "- https://www.confluent.io/blog/how-to-build-a-scalable-etl-pipeline-with-kafka-connect/\n",
    "- https://stackoverflow.com/questions/34076766/how-to-replay-kafka-backup-on-s3\n",
    "- https://www.upsolver.com/blog/etl-pipelines-for-kafka-data-choosing-the-right-approach\n",
    "- https://www.progress.com/tutorials/jdbc/import-data-from-any-rest-api-to-kafka-incrementally-using-jdbc\n",
    "- https://dzone.com/articles/why-you-should-and-how-to-archive-your-kafka-data"
   ]
  },
  {
   "cell_type": "markdown",
   "id": "7c2ccf6d-d772-44ac-b69b-a9c6ca2b8ce1",
   "metadata": {},
   "source": [
    "## Next lesson: [Workflows 2 - Argo events and workflows](02.ipynb)"
   ]
  },
  {
   "cell_type": "code",
   "execution_count": null,
   "id": "47525aff-dbe2-4d4c-8328-839bfa357359",
   "metadata": {},
   "outputs": [],
   "source": []
  }
 ],
 "metadata": {
  "kernelspec": {
   "display_name": "Python 3",
   "language": "python",
   "name": "python3"
  },
  "language_info": {
   "codemirror_mode": {
    "name": "ipython",
    "version": 3
   },
   "file_extension": ".py",
   "mimetype": "text/x-python",
   "name": "python",
   "nbconvert_exporter": "python",
   "pygments_lexer": "ipython3",
   "version": "3.9.2"
  }
 },
 "nbformat": 4,
 "nbformat_minor": 5
}
