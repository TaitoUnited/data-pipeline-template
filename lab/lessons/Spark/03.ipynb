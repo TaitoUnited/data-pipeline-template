{
 "cells": [
  {
   "cell_type": "markdown",
   "id": "fcb3063a-feaa-4a77-952f-3b2aa48cea7c",
   "metadata": {},
   "source": [
    "# Spark 3: Analyze data with Spark\n",
    "\n",
    "TODO: Later\n",
    "\n",
    "- https://cznarss.medium.com/lightweight-data-analysis-using-apache-spark-standalone-14a4657aa0f6\n",
    "- https://towardsdatascience.com/create-your-first-etl-pipeline-in-apache-spark-and-python-ec3d12e2c169\n"
   ]
  },
  {
   "cell_type": "markdown",
   "id": "d6074f5f-e0a2-422e-955f-4dda79c85855",
   "metadata": {},
   "source": [
    "## [Back to contents](../Contents.ipynb)"
   ]
  },
  {
   "cell_type": "code",
   "execution_count": null,
   "id": "b716b316-9bf1-4834-b002-e3d6575cc9b6",
   "metadata": {},
   "outputs": [],
   "source": []
  }
 ],
 "metadata": {
  "kernelspec": {
   "display_name": "Python 3",
   "language": "python",
   "name": "python3"
  },
  "language_info": {
   "codemirror_mode": {
    "name": "ipython",
    "version": 3
   },
   "file_extension": ".py",
   "mimetype": "text/x-python",
   "name": "python",
   "nbconvert_exporter": "python",
   "pygments_lexer": "ipython3",
   "version": "3.9.2"
  }
 },
 "nbformat": 4,
 "nbformat_minor": 5
}
