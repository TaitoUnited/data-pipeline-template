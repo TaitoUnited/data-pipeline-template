{
 "cells": [
  {
   "cell_type": "markdown",
   "id": "0e9e5a9b-20de-428b-977b-fd7ef4650426",
   "metadata": {},
   "source": [
    "# Lessons\n",
    "\n",
    "Prepare for lessons by executing [these tasks](Preparation.ipynb) first.\n",
    "\n",
    "## Basics\n",
    "\n",
    "ETL with Python, Database change management with Sqitch, and BI analytics with Apache Superset or Microsoft Power BI.\n",
    "\n",
    "1. [Extract, transform, and load a single CSV file (from storage bucket to database)](Basics/01.ipynb)\n",
    "2. [Listen storage bucket for uploads](Basics/02.ipynb)\n",
    "3. [Add a new dimension table to database and create data pipeline for it](Basics/03.ipynb)\n",
    "4. [Create a dataset view on top of star schema](Basics/04.ipynb)\n",
    "5. [Visualize data with Apache Superset](Basics/05.ipynb)\n",
    "6. [Visualize data with Power BI Desktop](Basics/06.ipynb)\n",
    "7. [Grant permissions for Power BI API access](Basics/07.ipynb)\n",
    "8. [Create a new Power BI push dataset](Basics/08.ipynb)\n",
    "9. [Keep Power BI dataset up-to-date](Basics/09.ipynb)\n",
    "10. [Real implementation and project configuration](Basics/10.ipynb)\n",
    "\n",
    "## Spark\n",
    "\n",
    "TODO: Big data ETL and analytics with Spark.\n",
    "\n",
    "1. [Extract, transform, and load CSV file with Spark (from storage bucket to database)](Spark/01.ipynb)\n",
    "2. [Listen storage bucket for uploads with Spark](Spark/02.ipynb)\n",
    "3. [Analyze data with Spark](Spark/03.ipynb)\n",
    "\n",
    "## Events and workflows\n",
    "\n",
    "TODO: Events and workflows with Kafka and Argo.\n",
    "\n",
    "1. [Kafka events and connectors](Workflows/01.ipynb)\n",
    "2. [Argo events and workflows](Workflows/02.ipynb)\n",
    "\n",
    "## Machine learning\n",
    "\n",
    "TODO: Machine learning with Python, KubeFlow, and Spark.\n",
    "\n",
    "1. [Machine learning with Python](ML/01.ipynb)\n",
    "2. [Machine learning with KubeFlow](ML/02.ipynb)\n",
    "3. [Machine learning with Spark](ML/03.ipynb)\n"
   ]
  },
  {
   "cell_type": "code",
   "execution_count": null,
   "id": "8e088511-f3dd-4ec4-ab94-ff7a7cbe45c8",
   "metadata": {},
   "outputs": [],
   "source": []
  }
 ],
 "metadata": {
  "kernelspec": {
   "display_name": "Python 3",
   "language": "python",
   "name": "python3"
  },
  "language_info": {
   "codemirror_mode": {
    "name": "ipython",
    "version": 3
   },
   "file_extension": ".py",
   "mimetype": "text/x-python",
   "name": "python",
   "nbconvert_exporter": "python",
   "pygments_lexer": "ipython3",
   "version": "3.9.2"
  }
 },
 "nbformat": 4,
 "nbformat_minor": 5
}
