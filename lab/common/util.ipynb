{
 "cells": [
  {
   "cell_type": "code",
   "execution_count": 1,
   "id": "b5daf2af-b336-41af-a6e1-1c1b8a7c9dfa",
   "metadata": {},
   "outputs": [],
   "source": [
    "import random\n",
    "import string\n",
    "\n",
    "\n",
    "# Returns secret value\n",
    "def get_secret_value(name):\n",
    "    f = None\n",
    "    try:\n",
    "        f = open(\"/run/secrets/\" + name, \"r\")\n",
    "        return f.read()\n",
    "    finally:\n",
    "        f.close()\n",
    "\n",
    "\n",
    "# Returns random string\n",
    "def generate_random_string(prefix):\n",
    "    return prefix + ''.join(\n",
    "        random.choice(string.ascii_lowercase) for i in range(20)\n",
    "    )\n",
    "\n",
    "\n",
    "# Raises an exception if value is not a one word\n",
    "def validate_is_one_word(value):\n",
    "    if len(value.split()) > 1:\n",
    "        raise Exception(\"Invalid value: \" + value)\n"
   ]
  },
  {
   "cell_type": "code",
   "execution_count": null,
   "id": "b5c466c2-0191-4c5f-9b7a-f5f647a6393b",
   "metadata": {},
   "outputs": [],
   "source": []
  }
 ],
 "metadata": {
  "kernelspec": {
   "display_name": "Python 3",
   "language": "python",
   "name": "python3"
  },
  "language_info": {
   "codemirror_mode": {
    "name": "ipython",
    "version": 3
   },
   "file_extension": ".py",
   "mimetype": "text/x-python",
   "name": "python",
   "nbconvert_exporter": "python",
   "pygments_lexer": "ipython3",
   "version": "3.9.2"
  }
 },
 "nbformat": 4,
 "nbformat_minor": 5
}
