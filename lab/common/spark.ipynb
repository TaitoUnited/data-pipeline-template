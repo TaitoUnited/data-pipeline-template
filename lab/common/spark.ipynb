{
 "cells": [
  {
   "cell_type": "code",
   "execution_count": 5,
   "id": "8e38e122-b9dd-499f-ac57-de0005ece87e",
   "metadata": {
    "tags": []
   },
   "outputs": [],
   "source": [
    "import os\n",
    "\n",
    "\n",
    "# Prepares Spark for storage bucket connection\n",
    "def init_spark(\n",
    "        sc,\n",
    "        bucket_type=os.environ['STORAGE_TYPE'],\n",
    "        key1=os.environ['STORAGE_ACCESS_KEY'],\n",
    "        key2=os.environ['STORAGE_SECRET_KEY'],\n",
    "        endpoint=os.environ.get('STORAGE_ENDPOINT')):\n",
    "    conf = sc._jsc.hadoopConfiguration()\n",
    "\n",
    "    # AWS S3 or Minio with s3a\n",
    "    if bucket_type == \"s3\":\n",
    "        # Set credentials for S3 bucket access\n",
    "        conf.set(\"fs.s3a.access.key\", key1)\n",
    "        conf.set(\"fs.s3a.secret.key\", key2)\n",
    "\n",
    "        # Set storage endpoint if we are connecting to Minio container\n",
    "        # instead of AWS S3\n",
    "        if endpoint:\n",
    "            conf.set(\"fs.s3a.endpoint\", endpoint)\n",
    "            conf.set(\"fs.s3a.connection.ssl.enabled\", \"false\")\n",
    "            conf.set(\"fs.s3a.path.style.access\", \"true\")\n",
    "\n",
    "        return \"s3a://\"\n",
    "\n",
    "    # Azure blob storage\n",
    "    elif bucket_type == \"azure\":\n",
    "        conf.set(\n",
    "            \"fs.azure.account.key.\" + key1 + \".blob.core.windows.net\",\n",
    "            key2\n",
    "        )\n",
    "        return \"wasbs://\"\n",
    "\n",
    "    else:\n",
    "        raise Exception(\"Bucket type not supported: \" + bucket_type)\n"
   ]
  },
  {
   "cell_type": "code",
   "execution_count": null,
   "id": "8c41aafe-7b5d-4cb8-98b2-7abcc1dceb6a",
   "metadata": {},
   "outputs": [],
   "source": []
  }
 ],
 "metadata": {
  "kernelspec": {
   "display_name": "Python 3",
   "language": "python",
   "name": "python3"
  },
  "language_info": {
   "codemirror_mode": {
    "name": "ipython",
    "version": 3
   },
   "file_extension": ".py",
   "mimetype": "text/x-python",
   "name": "python",
   "nbconvert_exporter": "python",
   "pygments_lexer": "ipython3",
   "version": "3.9.2"
  }
 },
 "nbformat": 4,
 "nbformat_minor": 5
}
