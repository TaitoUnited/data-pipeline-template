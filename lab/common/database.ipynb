{
 "cells": [
  {
   "cell_type": "code",
   "execution_count": 1,
   "id": "4e43d734-ee92-44e8-a4dd-a2878932ca79",
   "metadata": {},
   "outputs": [],
   "source": [
    "import os\n",
    "from sqlalchemy import create_engine as create_sqlalchemy_engine\n",
    "\n",
    "\n",
    "# Create sqlalchemy database engine\n",
    "def create_engine():\n",
    "    return create_sqlalchemy_engine(os.path.expandvars(\n",
    "        \"postgresql://$DATABASE_USER:$DATABASE_PASSWORD@$DATABASE_HOST:\" +\n",
    "        \"$DATABASE_PORT/$DATABASE_NAME\"\n",
    "    ))\n",
    "\n",
    "\n",
    "# Get JDBC database url\n",
    "def get_jdbc_url():\n",
    "    return os.path.expandvars(\n",
    "        \"jdbc:postgresql://$DATABASE_HOST:$DATABASE_PORT/$DATABASE_NAME\"\n",
    "    )\n",
    "\n",
    "\n",
    "# Get JDBC database options\n",
    "def get_jdbc_options():\n",
    "    return {\n",
    "        \"driver\": \"org.postgresql.Driver\",\n",
    "        \"user\": os.environ['DATABASE_USER'],\n",
    "        \"password\": os.environ['DATABASE_PASSWORD']\n",
    "    }\n"
   ]
  },
  {
   "cell_type": "code",
   "execution_count": null,
   "id": "5b31b843-d14d-4e73-ab1d-5e2f15f5533c",
   "metadata": {},
   "outputs": [],
   "source": []
  }
 ],
 "metadata": {
  "kernelspec": {
   "display_name": "Python 3",
   "language": "python",
   "name": "python3"
  },
  "language_info": {
   "codemirror_mode": {
    "name": "ipython",
    "version": 3
   },
   "file_extension": ".py",
   "mimetype": "text/x-python",
   "name": "python",
   "nbconvert_exporter": "python",
   "pygments_lexer": "ipython3",
   "version": "3.9.2"
  }
 },
 "nbformat": 4,
 "nbformat_minor": 5
}
